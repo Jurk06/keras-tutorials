{
 "cells": [
  {
   "cell_type": "code",
   "execution_count": 40,
   "metadata": {},
   "outputs": [],
   "source": [
    "import keras\n",
    "from keras.models import  Sequential \n",
    "from keras.layers import Dense, Dropout, Activation, Flatten\n",
    "from keras.layers import Conv2D, MaxPooling2D\n",
    "from keras.optimizers import SGD\n",
    "import numpy as np"
   ]
  },
  {
   "cell_type": "code",
   "execution_count": 41,
   "metadata": {},
   "outputs": [],
   "source": [
    "x_train=np.random.random((100, 100, 100,3))\n",
    "y_train=keras.utils.to_categorical(np.random.randint(10, size=(100, 1)),num_classes=10 )\n",
    "x_test=np.random.random((20, 100, 100, 3))\n",
    "y_test=keras.utils.to_categorical(np.random.randint(10, size=(20,1)), num_classes=10)"
   ]
  },
  {
   "cell_type": "code",
   "execution_count": 42,
   "metadata": {},
   "outputs": [],
   "source": [
    "model=Sequential()"
   ]
  },
  {
   "cell_type": "code",
   "execution_count": 43,
   "metadata": {},
   "outputs": [],
   "source": [
    "model.add(Conv2D(32, (3,3), activation='relu', input_shape=(100, 100, 3)))\n",
    "model.add(Conv2D(32, (3,3), activation='relu'))\n",
    "model.add(MaxPooling2D(pool_size=(2,2)))\n",
    "model.add(Dropout(0.25))"
   ]
  },
  {
   "cell_type": "code",
   "execution_count": 44,
   "metadata": {},
   "outputs": [],
   "source": [
    "model.add(Conv2D(64, (3,3), activation='relu'))\n",
    "model.add(Conv2D(64,(3,3), activation='relu' ))\n",
    "model.add(MaxPooling2D(pool_size=(2,2)))\n",
    "model.add(Dropout(0.25))\n"
   ]
  },
  {
   "cell_type": "code",
   "execution_count": 49,
   "metadata": {},
   "outputs": [],
   "source": [
    "model.add(Flatten())\n",
    "model.add(Dense(265, activation='relu'))\n",
    "model.add(Dropout(0.5))\n",
    "model.add(Dense(10, activation='softmax'))"
   ]
  },
  {
   "cell_type": "code",
   "execution_count": 50,
   "metadata": {},
   "outputs": [],
   "source": [
    "sgd=SGD(lr=0.01, decay=1e-6, momentum=0.9, nesterov=True)\n",
    "model.compile(loss='categorical_crossentropy', optimizer=sgd)"
   ]
  },
  {
   "cell_type": "code",
   "execution_count": 51,
   "metadata": {},
   "outputs": [
    {
     "name": "stdout",
     "output_type": "stream",
     "text": [
      "Epoch 1/10\n",
      "100/100 [==============================] - 10s 100ms/step - loss: 2.2998\n",
      "Epoch 2/10\n",
      "100/100 [==============================] - 8s 78ms/step - loss: 2.2911\n",
      "Epoch 3/10\n",
      "100/100 [==============================] - 8s 83ms/step - loss: 2.2938\n",
      "Epoch 4/10\n",
      "100/100 [==============================] - 8s 83ms/step - loss: 2.3300\n",
      "Epoch 5/10\n",
      "100/100 [==============================] - 8s 80ms/step - loss: 2.3451\n",
      "Epoch 6/10\n",
      "100/100 [==============================] - 8s 81ms/step - loss: 2.2878\n",
      "Epoch 7/10\n",
      "100/100 [==============================] - 8s 84ms/step - loss: 2.2982\n",
      "Epoch 8/10\n",
      "100/100 [==============================] - 8s 80ms/step - loss: 2.2957\n",
      "Epoch 9/10\n",
      "100/100 [==============================] - 9s 88ms/step - loss: 2.3437\n",
      "Epoch 10/10\n",
      "100/100 [==============================] - 8s 78ms/step - loss: 2.2991\n"
     ]
    },
    {
     "data": {
      "text/plain": [
       "<keras.callbacks.History at 0x194808d3e80>"
      ]
     },
     "execution_count": 51,
     "metadata": {},
     "output_type": "execute_result"
    }
   ],
   "source": [
    "model.fit(x_train, y_train, epochs=10, batch_size=32)"
   ]
  },
  {
   "cell_type": "code",
   "execution_count": 52,
   "metadata": {},
   "outputs": [
    {
     "name": "stdout",
     "output_type": "stream",
     "text": [
      "\r",
      "20/20 [==============================] - 1s 35ms/step\n"
     ]
    }
   ],
   "source": [
    "score=model.evaluate(x_test, y_test,batch_size=32 )"
   ]
  },
  {
   "cell_type": "code",
   "execution_count": null,
   "metadata": {},
   "outputs": [],
   "source": []
  }
 ],
 "metadata": {
  "kernelspec": {
   "display_name": "Python 3",
   "language": "python",
   "name": "python3"
  },
  "language_info": {
   "codemirror_mode": {
    "name": "ipython",
    "version": 3
   },
   "file_extension": ".py",
   "mimetype": "text/x-python",
   "name": "python",
   "nbconvert_exporter": "python",
   "pygments_lexer": "ipython3",
   "version": "3.6.5"
  }
 },
 "nbformat": 4,
 "nbformat_minor": 2
}
